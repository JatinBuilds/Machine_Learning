{
  "nbformat": 4,
  "nbformat_minor": 0,
  "metadata": {
    "colab": {
      "provenance": [],
      "authorship_tag": "ABX9TyPCvVl/KTdOKZmAJ5VblnZl",
      "include_colab_link": true
    },
    "kernelspec": {
      "name": "python3",
      "display_name": "Python 3"
    },
    "language_info": {
      "name": "python"
    }
  },
  "cells": [
    {
      "cell_type": "markdown",
      "metadata": {
        "id": "view-in-github",
        "colab_type": "text"
      },
      "source": [
        "<a href=\"https://colab.research.google.com/github/JatinBuilds/Machine_Learning/blob/main/Python_for_Machine_Learning.ipynb\" target=\"_parent\"><img src=\"https://colab.research.google.com/assets/colab-badge.svg\" alt=\"Open In Colab\"/></a>"
      ]
    },
    {
      "cell_type": "markdown",
      "source": [
        "Variables - Think of variables like containers that hold different types of things, just like how you might use labeled boxes to store various items. For instance, you have a box labeled 'a' which holds the number 2, another labeled 'cat' that holds 4.0, and yet another labeled 'one' which holds the word 'text'."
      ],
      "metadata": {
        "id": "wWjGE5XQ2V32"
      }
    },
    {
      "cell_type": "code",
      "source": [
        "# Variables - Containers that hold different types of data.\n",
        "a = 2  # Integer: Number of apples\n",
        "cat = 4.0  # Float: Weight of a cat\n",
        "one = 'text'  # String: Description of an object"
      ],
      "metadata": {
        "id": "PyR9_Nbt1NQL"
      },
      "execution_count": 19,
      "outputs": []
    },
    {
      "cell_type": "markdown",
      "source": [
        "Data Types- Variables can hold different types of data. Think of them as different types of ingredients you use in cooking. You have integers like '2', floats like '4.0', and strings like 'text'. Each ingredient serves a specific purpose, just as each data type serves a different role in programming."
      ],
      "metadata": {
        "id": "HqI81DwOJ-ct"
      }
    },
    {
      "cell_type": "code",
      "source": [
        "# Data Types - Different types of ingredients for programming recipes.\n",
        "a = 2  # Integer data type\n",
        "cat = 4.0  # Float data type (numbers with decimals)\n",
        "one = 'text'  # String data type"
      ],
      "metadata": {
        "id": "KiDus7pXJ9ax"
      },
      "execution_count": 20,
      "outputs": []
    },
    {
      "cell_type": "markdown",
      "source": [
        "Input/Output- Imagine your program as a chef who needs instructions (input) to cook a dish and provides a delicious meal (output) in return. When you use print(\"Hello World!\"), it's like the chef showing you the finished dish. Similarly, when you use input(), you're telling the chef what ingredients you want in the dish."
      ],
      "metadata": {
        "id": "kTU3Gwks3Gk0"
      }
    },
    {
      "cell_type": "code",
      "source": [
        "# Input and Output - Interacting with a computer, like cooking instructions.\n",
        "print(\"Hello World!\")  # Display output: Similar to showing a cooked dish\n",
        "print(one)  # Output variable without double quotes\n",
        "print(3)  # Output numbers without double quotes\n",
        "inp = input(\"Enter your name: \")  # Taking input, like asking someone's name"
      ],
      "metadata": {
        "colab": {
          "base_uri": "https://localhost:8080/"
        },
        "id": "UUzgS-C13Mve",
        "outputId": "ddb033e4-5eaf-44eb-8e68-adacb7508414"
      },
      "execution_count": 22,
      "outputs": [
        {
          "name": "stdout",
          "output_type": "stream",
          "text": [
            "Hello World!\n",
            "text\n",
            "3\n",
            "Amazing\n"
          ]
        }
      ]
    },
    {
      "cell_type": "markdown",
      "source": [
        "Operators - They are like kitchen tools that help you manipulate ingredients. The '+' operator adds things together, just like stirring ingredients. The '-' operator subtracts, like taking away a portion. The '*' operator multiplies, much like scaling up a recipe. The '/' operator divides, as you might split a cake into equal slices. The '%' operator gives you the remainder, like finding out how many pieces are left after sharing the cake. The '**' operator raises a number to a power, like making a dish spicier by adding more chili.\n"
      ],
      "metadata": {
        "id": "UgryP4bdLbBj"
      }
    },
    {
      "cell_type": "code",
      "source": [
        "# Operators - Mathematical tools for manipulating ingredients.\n",
        "plus = 1 + 1  # Addition: Combining ingredients\n",
        "minus = 1 - 1  # Subtraction: Removing a portion\n",
        "multiply = 2 * 2  # Multiplication: Scaling up a recipe\n",
        "divide = 3 / 2  # Division: Splitting into equal portions\n",
        "remainder = 3 % 2  # Modulus: Finding leftovers after sharing\n",
        "exponent = 2 ** 2  # Exponentiation: Making something spicier"
      ],
      "metadata": {
        "colab": {
          "base_uri": "https://localhost:8080/"
        },
        "id": "PrI8YI_xLd5C",
        "outputId": "93156c0e-b992-4935-f4e8-dc5056e20a89"
      },
      "execution_count": 17,
      "outputs": [
        {
          "output_type": "stream",
          "name": "stdout",
          "text": [
            "2 0 4 1.5 1 4\n"
          ]
        }
      ]
    },
    {
      "cell_type": "markdown",
      "source": [
        "Conditionals - Think of conditionals like making decisions in a game. Imagine you're playing a game where if your score (first) is higher than your friend's score (second), you win, otherwise, they win. Just like the computer deciding what message to display based on whether a condition is true or false."
      ],
      "metadata": {
        "id": "poOgsVYQ4Nx_"
      }
    },
    {
      "cell_type": "code",
      "source": [
        "# Conditionals - Making decisions like in a game.\n",
        "first = 1\n",
        "second = 2\n",
        "if first > second:\n",
        "    print(\"First is bigger than second\")  # Winning message\n",
        "else:\n",
        "    print(\"Second is bigger than first\")  # Losing message"
      ],
      "metadata": {
        "colab": {
          "base_uri": "https://localhost:8080/"
        },
        "id": "cKgKRGed4C0d",
        "outputId": "5f1a5c62-81e9-46ea-809b-8ff4b191a9bf"
      },
      "execution_count": 4,
      "outputs": [
        {
          "output_type": "stream",
          "name": "stdout",
          "text": [
            "first is bigger than second\n"
          ]
        }
      ]
    },
    {
      "cell_type": "markdown",
      "source": [
        "\n",
        "Loops - They are like following a recipe step by step, but repeating some steps multiple times. Imagine baking cookies. You mix the dough, roll it into balls, put them in the oven, and wait until they're golden brown. With loops, the computer does something similar, repeating a set of instructions until a certain condition is met.\n",
        "\n"
      ],
      "metadata": {
        "id": "WxsigSS3491H"
      }
    },
    {
      "cell_type": "code",
      "source": [
        "# Loops - Following a recipe step by step, repeating as needed.\n",
        "for i in range(10):  # Repeating steps 10 times\n",
        "    print(i)  # Display current step\n"
      ],
      "metadata": {
        "colab": {
          "base_uri": "https://localhost:8080/"
        },
        "id": "m9HbZkn842pU",
        "outputId": "c42bf3c6-ac5d-47d4-dd2a-552611ac638b"
      },
      "execution_count": 11,
      "outputs": [
        {
          "output_type": "stream",
          "name": "stdout",
          "text": [
            "0\n",
            "1\n",
            "2\n",
            "3\n",
            "4\n",
            "5\n",
            "6\n",
            "7\n",
            "8\n",
            "9\n"
          ]
        }
      ]
    },
    {
      "cell_type": "code",
      "source": [
        "easy = True\n",
        "while easy:  # Keep doing something while true\n",
        "    print(easy)  # Displaying 'easy' until it's not true\n",
        "    easy = False  # Changing 'easy' to end the loop\n"
      ],
      "metadata": {
        "colab": {
          "base_uri": "https://localhost:8080/"
        },
        "id": "5LvCjzrU6GRa",
        "outputId": "e353eb50-a619-44d8-95a6-88a8612e661f"
      },
      "execution_count": 23,
      "outputs": [
        {
          "output_type": "stream",
          "name": "stdout",
          "text": [
            "True\n"
          ]
        }
      ]
    },
    {
      "cell_type": "markdown",
      "source": [
        "In-built data structures - data structures are used to store data so that is can be used efficiently\n",
        "\n",
        "\n",
        "---\n",
        "\n",
        "There are 3 in-built data structures\n",
        "1. List\n",
        "2. Tuples\n",
        "3. Sets\n",
        "4. Dictionaries\n",
        "\n",
        "Each one of them has its own use cases and functionality"
      ],
      "metadata": {
        "id": "n42MzKlM6-MO"
      }
    },
    {
      "cell_type": "markdown",
      "source": [
        "Lists - Lists are like baskets where you can store various items, and you can easily add or remove things."
      ],
      "metadata": {
        "id": "YNGLfCFAW0J4"
      }
    },
    {
      "cell_type": "code",
      "source": [
        "# Lists - Like a basket for ingredients you can add or remove.\n",
        "list1 = [\"apple\", 2, \"mangoes\", \"bananas\"]\n",
        "print(list1[0])  # Accessing the first ingredient\n",
        "print(list1.index(\"apple\"))  # Finding the index of an ingredient\n",
        "print(list1[:2])  # Taking the first two ingredients\n",
        "print(list1[:-1])  # Except the last ingredient"
      ],
      "metadata": {
        "colab": {
          "base_uri": "https://localhost:8080/"
        },
        "id": "Oq8wjjRJ7pNO",
        "outputId": "bddddc46-03e0-46cf-e7e4-bcecb88ba075"
      },
      "execution_count": 35,
      "outputs": [
        {
          "output_type": "stream",
          "name": "stdout",
          "text": [
            "apple\n",
            "0\n"
          ]
        }
      ]
    },
    {
      "cell_type": "code",
      "source": [
        "list1.append(\"red\")  # Adding a new ingredient\n",
        "print(list1)\n",
        "list1.remove(\"apples\")  # Removing an ingredient\n",
        "print(list1)"
      ],
      "metadata": {
        "colab": {
          "base_uri": "https://localhost:8080/"
        },
        "id": "-jbiood6YcTR",
        "outputId": "63facd92-df1c-4444-ed10-61b589485a0a"
      },
      "execution_count": 37,
      "outputs": [
        {
          "output_type": "stream",
          "name": "stdout",
          "text": [
            "['apple', 2, 'mangoes', 'bananas', 'red']\n",
            "['apple', 'mangoes', 'bananas', 'red']\n"
          ]
        }
      ]
    },
    {
      "cell_type": "markdown",
      "source": [
        "Tuples - Tuples are like sealed jars, once you put something in, you can't change it"
      ],
      "metadata": {
        "id": "zm081ePZZuJY"
      }
    },
    {
      "cell_type": "code",
      "source": [
        "# Tuples - Ingredients in sealed jars that can't be changed.\n",
        "tuple1 = (\"apple\", 2, \"mangoes\", \"bananas\")\n",
        "print(tuple1)"
      ],
      "metadata": {
        "colab": {
          "base_uri": "https://localhost:8080/"
        },
        "id": "BrUr687OY1KG",
        "outputId": "62970d43-0067-43db-f6c5-1f752dcf0cf5"
      },
      "execution_count": 38,
      "outputs": [
        {
          "output_type": "stream",
          "name": "stdout",
          "text": [
            "('apple', 2, 'mangoes', 'bananas')\n"
          ]
        }
      ]
    },
    {
      "cell_type": "markdown",
      "source": [
        "They are useful for storing the data that need not to be changed in the future"
      ],
      "metadata": {
        "id": "ElAeYEGJbAs-"
      }
    },
    {
      "cell_type": "markdown",
      "source": [
        "Sets - Sets are like a collection of unique spices; each one is distinct, and you can add or remove them."
      ],
      "metadata": {
        "id": "SkymyMgubJ4k"
      }
    },
    {
      "cell_type": "code",
      "source": [
        "# Sets - Unique, unordered ingredients like a spice collection.\n",
        "set1 = {\"apple\", 2, \"mangoes\", \"bananas\"}\n",
        "set1.add(\"red\")  # Adding a new spice\n",
        "print(set1)\n",
        "set1.remove(\"red\")  # Removing a spice\n",
        "print(set1)"
      ],
      "metadata": {
        "colab": {
          "base_uri": "https://localhost:8080/"
        },
        "id": "8RpsgiL0ajx5",
        "outputId": "3c94acd4-b5d4-4004-987c-1bebc7ae8edd"
      },
      "execution_count": 47,
      "outputs": [
        {
          "output_type": "stream",
          "name": "stdout",
          "text": [
            "{'red', 2, 'bananas', 'mangoes', 'apple'}\n",
            "{2, 'bananas', 'mangoes', 'apple'}\n"
          ]
        }
      ]
    },
    {
      "cell_type": "markdown",
      "source": [
        "Dictionaries - Dictionaries are like a cookbook index, where each recipe (value) is listed with a unique name (key), making it easy to find."
      ],
      "metadata": {
        "id": "OqzoKxmCdGZm"
      }
    },
    {
      "cell_type": "code",
      "source": [
        "# Dictionaries - Ingredients listed with unique names like a cookbook index.\n",
        "dict1 = {\"apples\": 2, \"mangoes\": 3, \"bananas\": 4}\n",
        "print(dict1[\"apples\"])  # Accessing the amount of apples"
      ],
      "metadata": {
        "id": "b_0U3P_8dGDZ"
      },
      "execution_count": 50,
      "outputs": []
    },
    {
      "cell_type": "markdown",
      "source": [
        "Functions- Imagine a cookbook with a special recipe. You give it specific ingredients (inputs), and it follows a set of instructions to create a dish (output). Functions are similar; you define a process, provide it with information, and it returns a result. Just like how a recipe helps you make a dish without repeating the same steps, functions help you reuse code without rewriting it each time."
      ],
      "metadata": {
        "id": "e5jROvCueysM"
      }
    },
    {
      "cell_type": "code",
      "source": [
        "# Functions - Like following a special recipe with inputs and outputs.\n",
        "def multiplication(a, b):\n",
        "    \"\"\"\n",
        "    Multiplies two numbers.\n",
        "\n",
        "    :param a: First number\n",
        "    :param b: Second number\n",
        "    :return: Product of a and b\n",
        "    \"\"\"\n",
        "    return a*b\n",
        "print(multiplication(3, 4))  # Using the function\n",
        "\n"
      ],
      "metadata": {
        "colab": {
          "base_uri": "https://localhost:8080/"
        },
        "id": "duYK4oUbeBxB",
        "outputId": "1df5f7a4-2eff-4133-9d3a-f76f8864e565"
      },
      "execution_count": 55,
      "outputs": [
        {
          "output_type": "stream",
          "name": "stdout",
          "text": [
            "12\n"
          ]
        }
      ]
    },
    {
      "cell_type": "markdown",
      "source": [
        "This is a beginner's Python guide. I've added detailed explanations, analogies,\n",
        "and practical examples to make it more comprehensive. These are just some fundamentals concepts. If you want intermediate python feel free to DM me on twitter @jatin_version"
      ],
      "metadata": {
        "id": "_1geMcoDjVMe"
      }
    },
    {
      "cell_type": "code",
      "source": [],
      "metadata": {
        "id": "YtK49l1zjQjv"
      },
      "execution_count": null,
      "outputs": []
    }
  ]
}